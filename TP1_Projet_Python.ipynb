{
 "cells": [
  {
   "cell_type": "markdown",
   "metadata": {},
   "source": [
    "Exercice 1\n",
    "==="
   ]
  },
  {
   "cell_type": "code",
   "execution_count": 121,
   "metadata": {
    "collapsed": false
   },
   "outputs": [],
   "source": [
    "from tkinter import *\n",
    "\n",
    "fenetre=Tk()\n",
    "cnv=Canvas(fenetre, width=800, height=800, background=\"white\")\n",
    "cnv.pack()\n",
    "\n",
    "cnv.create_rectangle((0,800,800,770), fill='blue')\n",
    "cnv.create_rectangle((100,770,700,40), fill='blue')\n",
    "\n",
    "def dot(cnv, C, R=6, color='red'):\n",
    "    xC, yC=C\n",
    "    A=(xC-R, yC-R)\n",
    "    B=(xC+R, yC+R)\n",
    "    return cnv.create_oval(A,B, fill=color, outline=color)\n",
    "\n",
    "PAD=50\n",
    "DIM=100\n",
    "WIDTH=DIM+PAD\n",
    "HEIGHT=DIM+PAD\n",
    "\n",
    "C = (WIDTH//2, HEIGHT//2)\n",
    "\n",
    "dot(cnv, C, R=DIM//2, color=\"white\")\n",
    "fenetre.mainloop()"
   ]
  },
  {
   "cell_type": "code",
   "execution_count": null,
   "metadata": {
    "collapsed": true
   },
   "outputs": [],
   "source": [
    "y=40\n",
    "for i in range(0,6):\n",
    "    x=100\n",
    "    for j in range (0,6):\n",
    "        cnv.create_oval((x,y,x+40,y+120), fill='white', outline='')\n",
    "        x=x+110\n",
    "    y=y+120\n",
    "cnv.pack()"
   ]
  }
 ],
 "metadata": {
  "kernelspec": {
   "display_name": "Python 3",
   "language": "python",
   "name": "python3"
  },
  "language_info": {
   "codemirror_mode": {
    "name": "ipython",
    "version": 3
   },
   "file_extension": ".py",
   "mimetype": "text/x-python",
   "name": "python",
   "nbconvert_exporter": "python",
   "pygments_lexer": "ipython3",
   "version": "3.5.3"
  }
 },
 "nbformat": 4,
 "nbformat_minor": 2
}
