{
 "cells": [
  {
   "cell_type": "markdown",
   "metadata": {},
   "source": [
    "Exercice 1\n",
    "==="
   ]
  },
  {
   "cell_type": "code",
   "execution_count": 23,
   "metadata": {
    "collapsed": false
   },
   "outputs": [],
   "source": [
    "from tkinter import *\n",
    "\n",
    "fenetre=Tk()\n",
    "cnv=Canvas(fenetre, width=800, height=800, background=\"white\")\n",
    "cnv.pack()\n",
    "\n",
    "cnv.create_rectangle((0,800,800,770), fill='blue')\n",
    "cnv.create_rectangle((100,770,700,40), fill='blue')\n",
    "\n",
    "def dot(cnv, C, R=6, color='red'):\n",
    "    xC, yC=C\n",
    "    A=(xC-R, yC-R)\n",
    "    B=(xC+R, yC+R)\n",
    "    return cnv.create_oval(A,B, fill=color, outline=color)\n",
    "\n",
    "PAD=50\n",
    "DIM=100\n",
    "WIDTH=DIM+PAD\n",
    "HEIGHT=DIM+PAD\n",
    "\n",
    "C = (WIDTH//2, HEIGHT//2)\n",
    "\n",
    "dot(cnv, C, R=DIM//2, color=\"white\")\n",
    "fenetre.mainloop()"
   ]
  },
  {
   "cell_type": "code",
   "execution_count": null,
   "metadata": {
    "collapsed": true
   },
   "outputs": [],
   "source": [
    "y=40\n",
    "for i in range(0,6):\n",
    "    x=100\n",
    "    for j in range (0,6):\n",
    "        cnv.create_oval((x,y,x+40,y+120), fill='white', outline='')\n",
    "        x=x+110\n",
    "    y=y+120\n",
    "cnv.pack()"
   ]
  },
  {
   "cell_type": "markdown",
   "metadata": {},
   "source": [
    "Exercice 3\n",
    "===="
   ]
  },
  {
   "cell_type": "code",
   "execution_count": 22,
   "metadata": {
    "collapsed": false
   },
   "outputs": [],
   "source": [
    "from tkinter import *\n",
    "\n",
    "tableau=[[1,2,3,4],[5,6,7,8],[9,10,11,12],[13,14,15,16]]\n",
    "\n",
    "taquin=Tk()\n",
    "cnv=Canvas(taquin, width=400, height=400, background='black')\n",
    "cnv.pack()\n",
    "\n",
    "for i in range(4):\n",
    "    for j in range(4):\n",
    "        x,y=100*j, 100*i\n",
    "        A,B,C=(x, y),(x+100, y+100),(x+50, y+50)\n",
    "        rectangle=cnv.create_rectangle(A,B, fill=\"grey60\")\n",
    "        nombre=cnv.create_text(C, text=tableau[i][j], fill=\"white\")\n",
    "cnv.delete(rectangle)\n",
    "cnv.delete(nombre)\n",
    "taquin.mainloop()"
   ]
  },
  {
   "cell_type": "markdown",
   "metadata": {},
   "source": [
    "Exercice 4\n",
    "==="
   ]
  },
  {
   "cell_type": "code",
   "execution_count": 107,
   "metadata": {
    "collapsed": false
   },
   "outputs": [],
   "source": [
    "from tkinter import*\n",
    "\n",
    "def chgt(x,y, center):\n",
    "    return (x+center[0],-y+center[1])\n",
    "\n",
    "side=600\n",
    "center=(side//2,side//2)\n",
    "\n",
    "solitaire=Tk()\n",
    "cnv=Canvas(solitaire, width=side, height=side, background=\"white\")\n",
    "cnv.pack()\n",
    "\n",
    "X=0\n",
    "Y=0\n",
    "x,y=chgt(X,Y,center)\n",
    "cnv.create_oval(x-300,y-300,x+300,y+300,fill=\"orange\")\n",
    "cnv.create_oval(x-15,y-15,x+15,y+15,fill=\"grey\")\n",
    "\n",
    "for i in range(350,801,100):\n",
    "    for j in range(350,801,100):\n",
    "        cnv.create_oval(i-15,j-15,i+15,j+15,fill=\"black\", outline='')\n",
    "\n",
    "for i in range(350,801,100):\n",
    "    for j in range(350,801,100):\n",
    "        cnv.create_oval(i-15,j-15,i+15,j+15,fill=\"black\", outline='')\n",
    "        \n",
    "for i in range(350,801,100):\n",
    "    for j in range(350,801,100):\n",
    "        cnv.create_oval(i-15,j-15,i+15,j+15,fill=\"black\", outline='')\n",
    "        \n",
    "for i in range(350,801,100):\n",
    "    for j in range(350,801,100):\n",
    "        cnv.create_oval(i-15,j-15,i+15,j+15,fill=\"black\", outline='')\n",
    "solitaire.mainloop()"
   ]
  },
  {
   "cell_type": "code",
   "execution_count": null,
   "metadata": {
    "collapsed": true
   },
   "outputs": [],
   "source": []
  },
  {
   "cell_type": "code",
   "execution_count": null,
   "metadata": {
    "collapsed": true
   },
   "outputs": [],
   "source": []
  }
 ],
 "metadata": {
  "kernelspec": {
   "display_name": "Python 3",
   "language": "python",
   "name": "python3"
  },
  "language_info": {
   "codemirror_mode": {
    "name": "ipython",
    "version": 3
   },
   "file_extension": ".py",
   "mimetype": "text/x-python",
   "name": "python",
   "nbconvert_exporter": "python",
   "pygments_lexer": "ipython3",
   "version": "3.5.3"
  }
 },
 "nbformat": 4,
 "nbformat_minor": 2
}
